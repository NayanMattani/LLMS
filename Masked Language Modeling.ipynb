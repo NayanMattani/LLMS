{
 "cells": [
  {
   "cell_type": "code",
   "execution_count": 5,
   "id": "06e7dc43",
   "metadata": {},
   "outputs": [],
   "source": [
    "from transformers import BertModel, AutoTokenizer, AutoModelForMaskedLM\n",
    "from scipy.special import softmax\n",
    "import numpy as np"
   ]
  },
  {
   "cell_type": "code",
   "execution_count": 3,
   "id": "b0d8e280",
   "metadata": {},
   "outputs": [],
   "source": [
    "model_name = \"bert-base-cased\""
   ]
  },
  {
   "cell_type": "code",
   "execution_count": 6,
   "id": "b6eb0a80",
   "metadata": {},
   "outputs": [
    {
     "name": "stderr",
     "output_type": "stream",
     "text": [
      "Some weights of the model checkpoint at bert-base-cased were not used when initializing BertForMaskedLM: ['cls.seq_relationship.weight', 'cls.seq_relationship.bias']\n",
      "- This IS expected if you are initializing BertForMaskedLM from the checkpoint of a model trained on another task or with another architecture (e.g. initializing a BertForSequenceClassification model from a BertForPreTraining model).\n",
      "- This IS NOT expected if you are initializing BertForMaskedLM from the checkpoint of a model that you expect to be exactly identical (initializing a BertForSequenceClassification model from a BertForSequenceClassification model).\n"
     ]
    }
   ],
   "source": [
    "tokenizer = AutoTokenizer.from_pretrained(model_name)\n",
    "model = AutoModelForMaskedLM.from_pretrained(model_name)"
   ]
  },
  {
   "cell_type": "code",
   "execution_count": 8,
   "id": "aea7bcee",
   "metadata": {},
   "outputs": [
    {
     "data": {
      "text/plain": [
       "'[MASK]'"
      ]
     },
     "execution_count": 8,
     "metadata": {},
     "output_type": "execute_result"
    }
   ],
   "source": [
    "mask = tokenizer.mask_token\n",
    "mask"
   ]
  },
  {
   "cell_type": "code",
   "execution_count": 9,
   "id": "4f86e947",
   "metadata": {},
   "outputs": [
    {
     "data": {
      "text/plain": [
       "'I want to [MASK] pizza for tonight.'"
      ]
     },
     "execution_count": 9,
     "metadata": {},
     "output_type": "execute_result"
    }
   ],
   "source": [
    "sentence = f\"I want to {mask} pizza for tonight.\"\n",
    "sentence"
   ]
  },
  {
   "cell_type": "code",
   "execution_count": 10,
   "id": "66ed9733",
   "metadata": {},
   "outputs": [
    {
     "data": {
      "text/plain": [
       "['I', 'want', 'to', '[MASK]', 'pizza', 'for', 'tonight', '.']"
      ]
     },
     "execution_count": 10,
     "metadata": {},
     "output_type": "execute_result"
    }
   ],
   "source": [
    "tokens = tokenizer.tokenize(sentence)\n",
    "tokens"
   ]
  },
  {
   "cell_type": "code",
   "execution_count": 11,
   "id": "2ee07e54",
   "metadata": {},
   "outputs": [
    {
     "data": {
      "text/plain": [
       "{'input_ids': tensor([[  101,   146,  1328,  1106,   103, 13473,  1111,  3568,   119,   102]]), 'token_type_ids': tensor([[0, 0, 0, 0, 0, 0, 0, 0, 0, 0]]), 'attention_mask': tensor([[1, 1, 1, 1, 1, 1, 1, 1, 1, 1]])}"
      ]
     },
     "execution_count": 11,
     "metadata": {},
     "output_type": "execute_result"
    }
   ],
   "source": [
    "encoded_inputs = tokenizer(sentence, return_tensors = 'pt')\n",
    "encoded_inputs"
   ]
  },
  {
   "cell_type": "code",
   "execution_count": 12,
   "id": "0087bc3f",
   "metadata": {},
   "outputs": [
    {
     "data": {
      "text/plain": [
       "MaskedLMOutput(loss=None, logits=tensor([[[ -7.3723,  -7.2489,  -7.4421,  ...,  -6.3119,  -5.9369,  -6.4257],\n",
       "         [ -7.9311,  -8.2282,  -8.0326,  ...,  -6.7387,  -6.4877,  -6.9525],\n",
       "         [-12.0500, -11.7972, -12.5776,  ...,  -8.4518,  -6.7310,  -8.2586],\n",
       "         ...,\n",
       "         [-10.2204, -10.4315,  -9.9992,  ...,  -7.9570,  -6.7194,  -9.3618],\n",
       "         [-12.4471, -12.5367, -12.5614,  ...,  -9.9085,  -9.4219, -11.1769],\n",
       "         [-14.3657, -14.5227, -15.0017,  ..., -11.9715, -11.6569, -13.4498]]],\n",
       "       grad_fn=<ViewBackward0>), hidden_states=None, attentions=None)"
      ]
     },
     "execution_count": 12,
     "metadata": {},
     "output_type": "execute_result"
    }
   ],
   "source": [
    "outputs = model(**encoded_inputs)\n",
    "outputs"
   ]
  },
  {
   "cell_type": "code",
   "execution_count": 13,
   "id": "863bf925",
   "metadata": {},
   "outputs": [
    {
     "data": {
      "text/plain": [
       "array([[ -7.3722887,  -7.248853 ,  -7.4421344, ...,  -6.311859 ,\n",
       "         -5.9368916,  -6.4256763],\n",
       "       [ -7.9311113,  -8.228209 ,  -8.03259  , ...,  -6.738739 ,\n",
       "         -6.487725 ,  -6.952522 ],\n",
       "       [-12.050004 , -11.797209 , -12.577597 , ...,  -8.45177  ,\n",
       "         -6.7310143,  -8.258563 ],\n",
       "       ...,\n",
       "       [-10.2204   , -10.431477 ,  -9.9992485, ...,  -7.9569864,\n",
       "         -6.719398 ,  -9.36179  ],\n",
       "       [-12.447113 , -12.536692 , -12.561384 , ...,  -9.908545 ,\n",
       "         -9.421904 , -11.176948 ],\n",
       "       [-14.365712 , -14.522718 , -15.001669 , ..., -11.971543 ,\n",
       "        -11.656921 , -13.449783 ]], dtype=float32)"
      ]
     },
     "execution_count": 13,
     "metadata": {},
     "output_type": "execute_result"
    }
   ],
   "source": [
    "logits = outputs.logits.detach().numpy()[0]\n",
    "logits"
   ]
  },
  {
   "cell_type": "code",
   "execution_count": 15,
   "id": "f93efa4b",
   "metadata": {},
   "outputs": [
    {
     "data": {
      "text/plain": [
       "array([2.9159755e-10, 4.0784717e-10, 5.2928140e-10, ..., 8.4446100e-10,\n",
       "       6.2026415e-09, 1.6282877e-09], dtype=float32)"
      ]
     },
     "execution_count": 15,
     "metadata": {},
     "output_type": "execute_result"
    }
   ],
   "source": [
    "mask_logits = logits[tokens.index(mask) + 1]\n",
    "confidence_scores = softmax(mask_logits)\n",
    "confidence_scores"
   ]
  },
  {
   "cell_type": "code",
   "execution_count": 17,
   "id": "0548f873",
   "metadata": {},
   "outputs": [
    {
     "name": "stdout",
     "output_type": "stream",
     "text": [
      "I want to have pizza for tonight. 0.25729194\n",
      "I want to get pizza for tonight. 0.17849576\n",
      "I want to eat pizza for tonight. 0.15555455\n",
      "I want to make pizza for tonight. 0.11422367\n",
      "I want to order pizza for tonight. 0.09823079\n"
     ]
    }
   ],
   "source": [
    "for i in np.argsort(confidence_scores)[::-1][:5]:\n",
    "    pred_token = tokenizer.decode(i)\n",
    "    score = confidence_scores[i]\n",
    "    \n",
    "    # print(pred_token, score)\n",
    "    print(sentence.replace(mask, pred_token), score)"
   ]
  }
 ],
 "metadata": {
  "kernelspec": {
   "display_name": "Python 3 (ipykernel)",
   "language": "python",
   "name": "python3"
  },
  "language_info": {
   "codemirror_mode": {
    "name": "ipython",
    "version": 3
   },
   "file_extension": ".py",
   "mimetype": "text/x-python",
   "name": "python",
   "nbconvert_exporter": "python",
   "pygments_lexer": "ipython3",
   "version": "3.9.12"
  }
 },
 "nbformat": 4,
 "nbformat_minor": 5
}

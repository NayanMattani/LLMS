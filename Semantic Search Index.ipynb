{
 "cells": [
  {
   "cell_type": "code",
   "execution_count": 4,
   "id": "a1361fcf",
   "metadata": {},
   "outputs": [
    {
     "data": {
      "text/html": [
       "<div>\n",
       "<style scoped>\n",
       "    .dataframe tbody tr th:only-of-type {\n",
       "        vertical-align: middle;\n",
       "    }\n",
       "\n",
       "    .dataframe tbody tr th {\n",
       "        vertical-align: top;\n",
       "    }\n",
       "\n",
       "    .dataframe thead th {\n",
       "        text-align: right;\n",
       "    }\n",
       "</style>\n",
       "<table border=\"1\" class=\"dataframe\">\n",
       "  <thead>\n",
       "    <tr style=\"text-align: right;\">\n",
       "      <th></th>\n",
       "      <th>document</th>\n",
       "      <th>summary</th>\n",
       "    </tr>\n",
       "  </thead>\n",
       "  <tbody>\n",
       "    <tr>\n",
       "      <th>4830</th>\n",
       "      <td>Tweet with a location \\n \\n You can add locati...</td>\n",
       "      <td>– Denis Finley has taken to Twitter to call Po...</td>\n",
       "    </tr>\n",
       "    <tr>\n",
       "      <th>1255</th>\n",
       "      <td>CNN host Piers Morgan just called to discuss h...</td>\n",
       "      <td>– CNN's Piers Morgan thinks gun-rights propone...</td>\n",
       "    </tr>\n",
       "    <tr>\n",
       "      <th>80</th>\n",
       "      <td>White House communications director Anthony Sc...</td>\n",
       "      <td>– New White House communications director Anth...</td>\n",
       "    </tr>\n",
       "    <tr>\n",
       "      <th>3044</th>\n",
       "      <td>CLOSE Scientists say they've found archaeologi...</td>\n",
       "      <td>– Scientists say they have the first physical ...</td>\n",
       "    </tr>\n",
       "    <tr>\n",
       "      <th>4486</th>\n",
       "      <td>Click image above to view graphic \\n \\n Althou...</td>\n",
       "      <td>– Scientists are calling it a breakthrough and...</td>\n",
       "    </tr>\n",
       "  </tbody>\n",
       "</table>\n",
       "</div>"
      ],
      "text/plain": [
       "                                               document  \\\n",
       "4830  Tweet with a location \\n \\n You can add locati...   \n",
       "1255  CNN host Piers Morgan just called to discuss h...   \n",
       "80    White House communications director Anthony Sc...   \n",
       "3044  CLOSE Scientists say they've found archaeologi...   \n",
       "4486  Click image above to view graphic \\n \\n Althou...   \n",
       "\n",
       "                                                summary  \n",
       "4830  – Denis Finley has taken to Twitter to call Po...  \n",
       "1255  – CNN's Piers Morgan thinks gun-rights propone...  \n",
       "80    – New White House communications director Anth...  \n",
       "3044  – Scientists say they have the first physical ...  \n",
       "4486  – Scientists are calling it a breakthrough and...  "
      ]
     },
     "execution_count": 4,
     "metadata": {},
     "output_type": "execute_result"
    }
   ],
   "source": [
    "from datasets import load_dataset\n",
    "dataset = load_dataset(\"multi_news\", split = 'test')\n",
    "df = dataset.to_pandas().sample(2000,random_state = 42)\n",
    "df.head()"
   ]
  },
  {
   "cell_type": "code",
   "execution_count": 17,
   "id": "9193ae51",
   "metadata": {},
   "outputs": [],
   "source": [
    "from sentence_transformers import SentenceTransformer, util\n",
    "import torch"
   ]
  },
  {
   "cell_type": "code",
   "execution_count": 11,
   "id": "205db96e",
   "metadata": {},
   "outputs": [
    {
     "data": {
      "application/vnd.jupyter.widget-view+json": {
       "model_id": "656a49abc719406eadda19a5336bab69",
       "version_major": 2,
       "version_minor": 0
      },
      "text/plain": [
       "Downloading (…)e9125/.gitattributes:   0%|          | 0.00/1.18k [00:00<?, ?B/s]"
      ]
     },
     "metadata": {},
     "output_type": "display_data"
    },
    {
     "data": {
      "application/vnd.jupyter.widget-view+json": {
       "model_id": "d1fa2da538124ff7b06d6c150eb3a201",
       "version_major": 2,
       "version_minor": 0
      },
      "text/plain": [
       "Downloading (…)_Pooling/config.json:   0%|          | 0.00/190 [00:00<?, ?B/s]"
      ]
     },
     "metadata": {},
     "output_type": "display_data"
    },
    {
     "data": {
      "application/vnd.jupyter.widget-view+json": {
       "model_id": "b02a3696738f4831856b0834f1a69877",
       "version_major": 2,
       "version_minor": 0
      },
      "text/plain": [
       "Downloading (…)7e55de9125/README.md:   0%|          | 0.00/10.6k [00:00<?, ?B/s]"
      ]
     },
     "metadata": {},
     "output_type": "display_data"
    },
    {
     "data": {
      "application/vnd.jupyter.widget-view+json": {
       "model_id": "8861358caf8b43d2a841f6b35f57f4e6",
       "version_major": 2,
       "version_minor": 0
      },
      "text/plain": [
       "Downloading (…)55de9125/config.json:   0%|          | 0.00/612 [00:00<?, ?B/s]"
      ]
     },
     "metadata": {},
     "output_type": "display_data"
    },
    {
     "data": {
      "application/vnd.jupyter.widget-view+json": {
       "model_id": "c777d84274fb440088a672768489081d",
       "version_major": 2,
       "version_minor": 0
      },
      "text/plain": [
       "Downloading (…)ce_transformers.json:   0%|          | 0.00/116 [00:00<?, ?B/s]"
      ]
     },
     "metadata": {},
     "output_type": "display_data"
    },
    {
     "data": {
      "application/vnd.jupyter.widget-view+json": {
       "model_id": "31558796f5b24b168d009a2fa0f0c056",
       "version_major": 2,
       "version_minor": 0
      },
      "text/plain": [
       "Downloading (…)125/data_config.json:   0%|          | 0.00/39.3k [00:00<?, ?B/s]"
      ]
     },
     "metadata": {},
     "output_type": "display_data"
    },
    {
     "data": {
      "application/vnd.jupyter.widget-view+json": {
       "model_id": "400d133c22ce4438bafa322aea9238bf",
       "version_major": 2,
       "version_minor": 0
      },
      "text/plain": [
       "Downloading pytorch_model.bin:   0%|          | 0.00/90.9M [00:00<?, ?B/s]"
      ]
     },
     "metadata": {},
     "output_type": "display_data"
    },
    {
     "data": {
      "application/vnd.jupyter.widget-view+json": {
       "model_id": "13c91123ffcf45c09c764cacb1f1e4fa",
       "version_major": 2,
       "version_minor": 0
      },
      "text/plain": [
       "Downloading (…)nce_bert_config.json:   0%|          | 0.00/53.0 [00:00<?, ?B/s]"
      ]
     },
     "metadata": {},
     "output_type": "display_data"
    },
    {
     "data": {
      "application/vnd.jupyter.widget-view+json": {
       "model_id": "a83ebeba97a541c6b477ad13af706724",
       "version_major": 2,
       "version_minor": 0
      },
      "text/plain": [
       "Downloading (…)cial_tokens_map.json:   0%|          | 0.00/112 [00:00<?, ?B/s]"
      ]
     },
     "metadata": {},
     "output_type": "display_data"
    },
    {
     "data": {
      "application/vnd.jupyter.widget-view+json": {
       "model_id": "2611240a12f9450eba003f657564ea8f",
       "version_major": 2,
       "version_minor": 0
      },
      "text/plain": [
       "Downloading (…)e9125/tokenizer.json:   0%|          | 0.00/466k [00:00<?, ?B/s]"
      ]
     },
     "metadata": {},
     "output_type": "display_data"
    },
    {
     "data": {
      "application/vnd.jupyter.widget-view+json": {
       "model_id": "e4a02b73dcf3408f830047e7c04ac215",
       "version_major": 2,
       "version_minor": 0
      },
      "text/plain": [
       "Downloading (…)okenizer_config.json:   0%|          | 0.00/350 [00:00<?, ?B/s]"
      ]
     },
     "metadata": {},
     "output_type": "display_data"
    },
    {
     "data": {
      "application/vnd.jupyter.widget-view+json": {
       "model_id": "50c135bd33884422952f19bc58d399d4",
       "version_major": 2,
       "version_minor": 0
      },
      "text/plain": [
       "Downloading (…)9125/train_script.py:   0%|          | 0.00/13.2k [00:00<?, ?B/s]"
      ]
     },
     "metadata": {},
     "output_type": "display_data"
    },
    {
     "data": {
      "application/vnd.jupyter.widget-view+json": {
       "model_id": "5c60ab72fcf64f5a88783d7402716bf8",
       "version_major": 2,
       "version_minor": 0
      },
      "text/plain": [
       "Downloading (…)7e55de9125/vocab.txt:   0%|          | 0.00/232k [00:00<?, ?B/s]"
      ]
     },
     "metadata": {},
     "output_type": "display_data"
    },
    {
     "data": {
      "application/vnd.jupyter.widget-view+json": {
       "model_id": "47d03226d9c2440a89d8a3fca09b2874",
       "version_major": 2,
       "version_minor": 0
      },
      "text/plain": [
       "Downloading (…)5de9125/modules.json:   0%|          | 0.00/349 [00:00<?, ?B/s]"
      ]
     },
     "metadata": {},
     "output_type": "display_data"
    }
   ],
   "source": [
    "model = SentenceTransformer(\"all-MiniLM-L6-v2\")"
   ]
  },
  {
   "cell_type": "code",
   "execution_count": 12,
   "id": "5eeeb938",
   "metadata": {},
   "outputs": [
    {
     "data": {
      "text/plain": [
       "SentenceTransformer(\n",
       "  (0): Transformer({'max_seq_length': 256, 'do_lower_case': False}) with Transformer model: BertModel \n",
       "  (1): Pooling({'word_embedding_dimension': 384, 'pooling_mode_cls_token': False, 'pooling_mode_mean_tokens': True, 'pooling_mode_max_tokens': False, 'pooling_mode_mean_sqrt_len_tokens': False})\n",
       "  (2): Normalize()\n",
       ")"
      ]
     },
     "execution_count": 12,
     "metadata": {},
     "output_type": "execute_result"
    }
   ],
   "source": [
    "model"
   ]
  },
  {
   "cell_type": "code",
   "execution_count": 13,
   "id": "24c1f360",
   "metadata": {},
   "outputs": [
    {
     "data": {
      "application/vnd.jupyter.widget-view+json": {
       "model_id": "655c3ffadf9d4a9980b5c151fa2df68e",
       "version_major": 2,
       "version_minor": 0
      },
      "text/plain": [
       "Batches:   0%|          | 0/63 [00:00<?, ?it/s]"
      ]
     },
     "metadata": {},
     "output_type": "display_data"
    },
    {
     "data": {
      "text/plain": [
       "(384,)"
      ]
     },
     "execution_count": 13,
     "metadata": {},
     "output_type": "execute_result"
    }
   ],
   "source": [
    "passage_embeddings = list(model.encode(df['summary'].to_list(), show_progress_bar = True))\n",
    "passage_embeddings[0].shape"
   ]
  },
  {
   "cell_type": "code",
   "execution_count": 14,
   "id": "1f9eb449",
   "metadata": {},
   "outputs": [],
   "source": [
    "def find_relevant_news(query):\n",
    "    query_embedding = model.encode(query)\n",
    "    query_embedding.shape\n",
    "    \n",
    "    similarities = util.cos_sim(query_embedding, passage_embeddings)\n",
    "    similarities.shape\n",
    "    \n",
    "    top_indices = torch.topk(similarities.flatten(), 3).indices\n",
    "    \n",
    "    top_relevant_passages = [df.iloc[x.item()]['summary'][:200] + \"....\" for x in top_indices]\n",
    "    \n",
    "    return top_relevant_passages "
   ]
  },
  {
   "cell_type": "code",
   "execution_count": 18,
   "id": "96509372",
   "metadata": {},
   "outputs": [
    {
     "name": "stderr",
     "output_type": "stream",
     "text": [
      "C:\\Users\\HP\\anaconda3\\lib\\site-packages\\sentence_transformers\\util.py:39: UserWarning: Creating a tensor from a list of numpy.ndarrays is extremely slow. Please consider converting the list to a single numpy.ndarray with numpy.array() before converting to a tensor. (Triggered internally at C:\\actions-runner\\_work\\pytorch\\pytorch\\builder\\windows\\pytorch\\torch\\csrc\\utils\\tensor_new.cpp:264.)\n",
      "  b = torch.tensor(b)\n"
     ]
    },
    {
     "data": {
      "text/plain": [
       "[\"– If brain size relative to body size determines IQ, the venerable shrew would be the smartest creature on the planet. But it doesn't, and it's not, and scientists from Austria, the Netherlands, and G....\",\n",
       " '– Are you a \"digital native\" or a \"digital immigrant,\" and does it make a difference? Research recently published in the Teaching and Teacher Education journal indicates the concept of so-called digit....',\n",
       " \"– Using methods borrowed from Google, a group of researchers has analyzed all Wikipedia pages and determined that, at least on the English language version of the site, Frank Sinatra is the world's mo....\"]"
      ]
     },
     "execution_count": 18,
     "metadata": {},
     "output_type": "execute_result"
    }
   ],
   "source": [
    "find_relevant_news(\"Find me some articles about technology and artifical intelligence\")"
   ]
  },
  {
   "cell_type": "code",
   "execution_count": 19,
   "id": "d8b8b9d8",
   "metadata": {},
   "outputs": [
    {
     "data": {
      "text/plain": [
       "['– The tsunami that killed hundreds, possibly thousands of people after an earthquake in Indonesia on Friday was much bigger and more devastating than would normally be expected after that kind of quak....',\n",
       " '– A sad milestone out of Japan: Two weeks after the quake struck, its official death toll has broken the 10,000 mark—and that number is still on the rise, with more than 17,400 missing. Police estimat....',\n",
       " '– When you live near a major dam, the last thing you want to hear is that the integrity of it has been \"compromised\" by landslides. But that\\'s exactly what residents living below North Carolina\\'s Lake....']"
      ]
     },
     "execution_count": 19,
     "metadata": {},
     "output_type": "execute_result"
    }
   ],
   "source": [
    "find_relevant_news(\"Natural Disasters\")"
   ]
  },
  {
   "cell_type": "code",
   "execution_count": 20,
   "id": "00fcbf74",
   "metadata": {},
   "outputs": [
    {
     "data": {
      "text/plain": [
       "['– The war of words between Chicago and the federal government over \"sanctuary cities\" policy is heating up. Attorney General Jeff Sessions slammed the city\\'s leaders Monday over their lawsuit against ....',\n",
       " '– Greg Barnes was in a hurry to get home on Friday, so when he saw police lights behind him on State Road 332 in Muncie, Indiana, \"immediately I knew I was in the wrong,\" he tells WISH. What followed ....',\n",
       " '– \"We are not thugs. We are professionals,\" says the leader of a black policing group, addressing a speech in which President Trump urged officers to not be \"too nice\" when arresting suspects. Perry T....']"
      ]
     },
     "execution_count": 20,
     "metadata": {},
     "output_type": "execute_result"
    }
   ],
   "source": [
    "find_relevant_news(\"Law enforcement and police\")"
   ]
  },
  {
   "cell_type": "code",
   "execution_count": 21,
   "id": "7f8f3a6d",
   "metadata": {},
   "outputs": [
    {
     "data": {
      "text/plain": [
       "['– Tunisia got a new interim president today—parliamentary leader Fouad Mebazaa—who is technically the third leader in 24 hours, notes the Los Angeles Times. He takes over from the previous interim pre....',\n",
       " '– The global relief effort in Haiti has devolved into a nasty power struggle, with countries and aid agencies furious at the US takeover of emergency operations. France, Brazil, which runs the UN peac....',\n",
       " '– Like a game of Risk, Russia and NATO have not only been suspiciously eying each other in recent months, but also conducting military exercises in border areas that the Washington Post says are makin....']"
      ]
     },
     "execution_count": 21,
     "metadata": {},
     "output_type": "execute_result"
    }
   ],
   "source": [
    "find_relevant_news(\"Politics, diplomacy and nationalism\")"
   ]
  }
 ],
 "metadata": {
  "kernelspec": {
   "display_name": "Python 3 (ipykernel)",
   "language": "python",
   "name": "python3"
  },
  "language_info": {
   "codemirror_mode": {
    "name": "ipython",
    "version": 3
   },
   "file_extension": ".py",
   "mimetype": "text/x-python",
   "name": "python",
   "nbconvert_exporter": "python",
   "pygments_lexer": "ipython3",
   "version": "3.9.12"
  }
 },
 "nbformat": 4,
 "nbformat_minor": 5
}
